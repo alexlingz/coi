{
 "cells": [
  {
   "cell_type": "code",
   "execution_count": 1,
   "metadata": {},
   "outputs": [],
   "source": [
    "import numpy as np\n",
    "import cv2\n",
    "import matplotlib.pyplot as plt\n",
    "import json\n",
    "from draw_paper_utils import *"
   ]
  },
  {
   "cell_type": "markdown",
   "metadata": {},
   "source": []
  },
  {
   "cell_type": "code",
   "execution_count": 2,
   "metadata": {},
   "outputs": [],
   "source": [
    "# # 画第一帧,在这里画似乎不太好看\n",
    "# # source\n",
    "# souce_init_image = cv2.cvtColor(cv2.imread('test_data/000037/color/000020_color.png'),cv2.COLOR_BGR2RGB)\n",
    "# positive2cam_init_list = np.load('draw_paper/pour_water_demo2/positiveinit2cam_list.npy')\n",
    "# output_image = draw_frame(souce_init_image,positive2cam_init_list[0], \n",
    "#                           axis_length=0.03, \n",
    "#                           colors=((125, 255, 0), (125, 255, 0), (125, 255, 0)))\n",
    "\n",
    "# cv2.imshow(\"Coordinate Frame\", cv2.cvtColor(output_image, cv2.COLOR_RGB2BGR))\n",
    "# cv2.waitKey(0)\n",
    "# cv2.destroyAllWindows()"
   ]
  },
  {
   "cell_type": "code",
   "execution_count": 3,
   "metadata": {},
   "outputs": [],
   "source": [
    "# save_frames_from_avi('draw_paper/teaser/pour_water_execute3/execute_video_rgb.avi','draw_paper/teaser/pour_water_execute3/execute',)"
   ]
  },
  {
   "cell_type": "code",
   "execution_count": 4,
   "metadata": {},
   "outputs": [],
   "source": [
    "# # 特征可视化\n",
    "# dir = 'draw_paper/pour_water_demo4/'\n",
    "# which = 'passive'\n",
    "# point_source = np.load(f'{dir}/{which}_point_source.npy') # n,2\n",
    "# point_target = np.load(f'{dir}/{which}_point_target.npy') # n,2\n",
    "# feature_source = np.load(f'{dir}/{which}_feature_source.npy') # n,c\n",
    "# feature_target = np.load(f'{dir}/{which}_feature_target.npy') # n,c\n",
    "# additional_feature = None\n",
    "# feature_pca_vis(point_source,point_target,feature_source,feature_target,additional_feature)"
   ]
  },
  {
   "cell_type": "code",
   "execution_count": 5,
   "metadata": {},
   "outputs": [],
   "source": [
    "# # match可视化\n",
    "# ecpd_match_id = np.load(f'{dir}/{which}_ecpd_match_result_id.npy') # n\n",
    "# show_match_color(point_source,point_target,ecpd_match_id)"
   ]
  },
  {
   "cell_type": "code",
   "execution_count": 9,
   "metadata": {},
   "outputs": [
    {
     "data": {
      "text/plain": [
       "True"
      ]
     },
     "execution_count": 9,
     "metadata": {},
     "output_type": "execute_result"
    }
   ],
   "source": [
    "# 可视化投影下来的match\n",
    "dir = 'draw_paper/teaser121/execute1'\n",
    "which = 'positive'\n",
    "target_image = cv2.imread(f'{dir}/to_be_grasp_frame.png')   # bgr\n",
    "source_image = cv2.imread(f'draw_paper/teaser120/pour_water_demo/color/000030_color.png')   # bgr\n",
    "source_image = np.zeros_like(source_image)\n",
    "target_image = np.zeros_like(target_image)\n",
    "\n",
    "camera_intrinsics_dict = json.load(open('/home/yan20/tianshuwu/coi/draw_paper/teaser120/pour_water_demo/camera_intrinsics.json'))\n",
    "camera_intrinsics = np.array([[camera_intrinsics_dict['fx'], 0, camera_intrinsics_dict['cx']],\n",
    "                                [0, camera_intrinsics_dict['fy'], camera_intrinsics_dict['cy']],\n",
    "                                [0, 0, 1]])\n",
    "\n",
    "\n",
    "point_source = np.load(f'{dir}/{which}_point_source.npy') # n,2\n",
    "point_target = np.load(f'{dir}/{which}_point_target.npy') # n,2\n",
    "ecpd_match_id = np.load(f'{dir}/{which}_ecpd_match_result_id.npy') # n\n",
    "source_image,target_image = show_match_projection_with_upsampling(point_source,point_target,ecpd_match_id,source_image,target_image,camera_intrinsics,camera_intrinsics)\n",
    "\n",
    "which = 'passive'\n",
    "point_source = np.load(f'{dir}/{which}_point_source.npy') # n,2\n",
    "point_target = np.load(f'{dir}/{which}_point_target.npy') # n,2\n",
    "ecpd_match_id = np.load(f'{dir}/{which}_ecpd_match_result_id.npy') # n\n",
    "source_image,target_image = show_match_projection_with_upsampling(point_source,point_target,ecpd_match_id,source_image,target_image,camera_intrinsics,camera_intrinsics)\n",
    "\n",
    "\n",
    "cv2.imshow(\"Source and Target Images with Matches\", source_image)\n",
    "cv2.waitKey(0)\n",
    "cv2.destroyAllWindows()\n",
    "\n",
    "cv2.imshow(\"Source and Target Images with Matches\", target_image)\n",
    "cv2.waitKey(0)\n",
    "cv2.destroyAllWindows()\n",
    "\n",
    "cv2.imwrite(f'{dir}/match_projection_demo.png',source_image)\n",
    "cv2.imwrite(f'{dir}/match_projection_execute.png',target_image)"
   ]
  }
 ],
 "metadata": {
  "kernelspec": {
   "display_name": "coi",
   "language": "python",
   "name": "python3"
  },
  "language_info": {
   "codemirror_mode": {
    "name": "ipython",
    "version": 3
   },
   "file_extension": ".py",
   "mimetype": "text/x-python",
   "name": "python",
   "nbconvert_exporter": "python",
   "pygments_lexer": "ipython3",
   "version": "3.10.16"
  }
 },
 "nbformat": 4,
 "nbformat_minor": 2
}
